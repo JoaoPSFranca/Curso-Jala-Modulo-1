{
  "cells": [
    {
      "cell_type": "markdown",
      "metadata": {
        "id": "0CITupjC5qaN"
      },
      "source": [
        "## Listas e dicionários\n",
        "\n",
        "Ambos são conhecidos como estruturas de dados, eles nos ajudam a armazenar dados e podemos realizar operações neles, mostraremos alguns exemplos e você poderá continuar testando algumas operações."
      ]
    },
    {
      "cell_type": "markdown",
      "metadata": {
        "id": "-SviEnyu5qaW"
      },
      "source": [
        "### Listas\n",
        "\n",
        "As listas são como as listas que normalmente conhecemos no mundo real, como listas de alunos, lista de números de telefone, etc. E como na vida real em python eles também possuem uma ordem, com a diferença que a primeira posição é 0, vejamos alguns exemplos:"
      ]
    },
    {
      "cell_type": "code",
      "execution_count": null,
      "metadata": {
        "id": "x4nv4W1h5qaX",
        "outputId": "41720bd6-9a1e-4c4d-9750-785f28b03203",
        "colab": {
          "base_uri": "https://localhost:8080/"
        }
      },
      "outputs": [
        {
          "output_type": "stream",
          "name": "stdout",
          "text": [
            "green\n"
          ]
        }
      ],
      "source": [
        "colors = [\"green\", \"blue\", \"yellow\", \"red\"]\n",
        "\n",
        "## Acessamos o valor da primeira posição da lista usando o valor 0, que chamaremos de índice\n",
        "\n",
        "\n",
        "print(colors[0])"
      ]
    },
    {
      "cell_type": "code",
      "execution_count": null,
      "metadata": {
        "id": "qnRzw0L05qaa",
        "outputId": "8618e30b-8f0d-4704-da6a-112d308c98b4",
        "colab": {
          "base_uri": "https://localhost:8080/",
          "height": 200
        }
      },
      "outputs": [
        {
          "output_type": "error",
          "ename": "IndexError",
          "evalue": "ignored",
          "traceback": [
            "\u001b[0;31m---------------------------------------------------------------------------\u001b[0m",
            "\u001b[0;31mIndexError\u001b[0m                                Traceback (most recent call last)",
            "\u001b[0;32m<ipython-input-6-c82e3c231406>\u001b[0m in \u001b[0;36m<module>\u001b[0;34m\u001b[0m\n\u001b[1;32m      4\u001b[0m \u001b[0;34m\u001b[0m\u001b[0m\n\u001b[1;32m      5\u001b[0m \u001b[0;31m## Ele lançará uma exceção explicando o motivo.\u001b[0m\u001b[0;34m\u001b[0m\u001b[0;34m\u001b[0m\u001b[0;34m\u001b[0m\u001b[0m\n\u001b[0;32m----> 6\u001b[0;31m \u001b[0mprint\u001b[0m\u001b[0;34m(\u001b[0m\u001b[0mages\u001b[0m\u001b[0;34m[\u001b[0m\u001b[0;36m5\u001b[0m\u001b[0;34m]\u001b[0m\u001b[0;34m)\u001b[0m\u001b[0;34m\u001b[0m\u001b[0;34m\u001b[0m\u001b[0m\n\u001b[0m",
            "\u001b[0;31mIndexError\u001b[0m: list index out of range"
          ]
        }
      ],
      "source": [
        "## O que acontece se acessarmos uma posição que não existe na lista:\n",
        "\n",
        "ages = [12, 13, 45, 34, 23]\n",
        "\n",
        "## Ele lançará uma exceção explicando o motivo.\n",
        "print(ages[5])"
      ]
    },
    {
      "cell_type": "code",
      "execution_count": null,
      "metadata": {
        "id": "K-ucok3h5qac",
        "outputId": "947608a7-a453-4a9b-e95f-bf2afbc4ca17"
      },
      "outputs": [
        {
          "name": "stdout",
          "output_type": "stream",
          "text": [
            "[12, 'Carlos', 'Robert', '999', 909]\n"
          ]
        }
      ],
      "source": [
        "## Você viu que nos exemplos usamos apenas um único tipo de dado na lista\n",
        "## Mas podemos ter vários tipos em uma lista\n",
        "\n",
        "students = [12, \"Carlos\", \"Robert\", \"999\", 909]\n",
        "## Imprimimos a lista sem problemas porque é válida\n",
        "print(students)"
      ]
    },
    {
      "cell_type": "markdown",
      "metadata": {
        "id": "PUUxg-ws5qac"
      },
      "source": [
        "Podemos fazer várias operações com as listas, aqui estão algumas:\n",
        "\n",
        "- **index(value_to_search):** Retorna o valor a ser pesquisado na lista.\n",
        "- **insert(position, value_to_add):** Adiciona um valor à lista, em uma determinada posição.\n",
        "- **max(lista):** Retorna o valor máximo de uma lista.\n",
        "- **min(lista):** Retorna o valor mínimo de uma lista.\n",
        "- **list.count(value):** Retorna o número de vezes que um valor está em uma lista.\n",
        "- **append(value)** Adiciona um valor à lista na última posição\n"
      ]
    },
    {
      "cell_type": "code",
      "execution_count": null,
      "metadata": {
        "colab": {
          "base_uri": "https://localhost:8080/"
        },
        "id": "QQ9T_0RV5qad",
        "outputId": "cee315c2-77ea-45de-c505-43a65c6660bc"
      },
      "outputs": [
        {
          "output_type": "stream",
          "name": "stdout",
          "text": [
            "Write an account: 782\n",
            "4\n",
            "['123', '345', '222', '345', '900', '782']\n",
            "1\n",
            "900\n",
            "123\n",
            "6\n"
          ]
        }
      ],
      "source": [
        "from traitlets.config.application import indent\n",
        "## Vamos testar o anexo com uma entrada usando a função input()\n",
        "\n",
        "accounts = ['123', '345', '345', '900']\n",
        "account = input(\"Write an account: \")\n",
        "\n",
        "print(len(accounts))\n",
        "\n",
        "ind = accounts.index('345')\n",
        "accounts.append(account)\n",
        "accounts.insert(2,'222')\n",
        "maximo = max(accounts)\n",
        "minimo = min(accounts)\n",
        "\n",
        "## Você pode tentar usar as outras operações.\n",
        "print(accounts)\n",
        "print(ind)\n",
        "print(maximo)\n",
        "print(minimo)\n",
        "print(len(accounts))"
      ]
    },
    {
      "cell_type": "markdown",
      "metadata": {
        "id": "8Jbh3V6Y5qaf"
      },
      "source": [
        "### Dicionários\n",
        "\n",
        "Assim como as listas, elas não diferem muito do que conhecemos na vida real, usamos uma chave que chamaremos de `chave` para acessar um valor que em python conhecemos como `valor`, diferente das listas essa estrutura não tem um valor definido ordem, vamos ver alguns exemplos."
      ]
    },
    {
      "cell_type": "code",
      "execution_count": null,
      "metadata": {
        "id": "Al5sMIfV5qag",
        "outputId": "a64c729d-1be4-4e52-f231-e0fd88134684",
        "colab": {
          "base_uri": "https://localhost:8080/"
        }
      },
      "outputs": [
        {
          "output_type": "stream",
          "name": "stdout",
          "text": [
            "12\n",
            "pablo\n",
            "Terceiro\n",
            "dict_keys(['carlos', 'pablo', 'mendoza'])\n",
            "dict_values(['carlos', 'pablo', 'mendoza'])\n",
            "12\n"
          ]
        }
      ],
      "source": [
        "names_by_age = {\"carlos\": 12, \"pablo\": 23, \"mendoza\": 90}\n",
        "\n",
        "ages_by_name = {12: \"carlos\", 23: \"pablo\", 90: \"mendoza\"}\n",
        "\n",
        "order_by_number = {1: \"Primeiro\", 2: \"Segundo\", 3: \"Terceiro\", 4: \"Quarto\"}\n",
        "\n",
        "## ao contrário das listas para acessar um valor, você deve usar a chave, não o index\n",
        "print(names_by_age[\"carlos\"])\n",
        "print(ages_by_name[23])\n",
        "print(order_by_number[3])\n",
        "\n",
        "print(names_by_age.keys())\n",
        "print(ages_by_name.values())\n",
        "print(names_by_age['carlos'])\n"
      ]
    },
    {
      "cell_type": "code",
      "execution_count": null,
      "metadata": {
        "id": "qgVcbfAu5qah",
        "outputId": "e4b8d65d-e37a-4c36-d643-372a98cac1d3",
        "colab": {
          "base_uri": "https://localhost:8080/",
          "height": 200
        }
      },
      "outputs": [
        {
          "output_type": "error",
          "ename": "KeyError",
          "evalue": "ignored",
          "traceback": [
            "\u001b[0;31m---------------------------------------------------------------------------\u001b[0m",
            "\u001b[0;31mKeyError\u001b[0m                                  Traceback (most recent call last)",
            "\u001b[0;32m<ipython-input-10-80c21d6e19af>\u001b[0m in \u001b[0;36m<module>\u001b[0;34m\u001b[0m\n\u001b[1;32m      4\u001b[0m \u001b[0;34m\u001b[0m\u001b[0m\n\u001b[1;32m      5\u001b[0m \u001b[0;31m## Assim como nas listas, uma exceção é lançada\u001b[0m\u001b[0;34m\u001b[0m\u001b[0;34m\u001b[0m\u001b[0;34m\u001b[0m\u001b[0m\n\u001b[0;32m----> 6\u001b[0;31m \u001b[0mprint\u001b[0m\u001b[0;34m(\u001b[0m\u001b[0musers_by_page\u001b[0m\u001b[0;34m[\u001b[0m\u001b[0;34m\"no\"\u001b[0m\u001b[0;34m]\u001b[0m\u001b[0;34m)\u001b[0m\u001b[0;34m\u001b[0m\u001b[0;34m\u001b[0m\u001b[0m\n\u001b[0m",
            "\u001b[0;31mKeyError\u001b[0m: 'no'"
          ]
        }
      ],
      "source": [
        "## O que acontece se inserirmos uma chave que não existe?\n",
        "\n",
        "users_by_page = {\"facebook\": 12, \"instagram\": 89, \"reddit\": 890}\n",
        "\n",
        "## Assim como nas listas, uma exceção é lançada\n",
        "print(users_by_page[\"no\"])"
      ]
    },
    {
      "cell_type": "code",
      "execution_count": null,
      "metadata": {
        "id": "9s8rUJHx5qaj",
        "outputId": "215bf2e4-22eb-4db9-ff10-aab736d7aa13"
      },
      "outputs": [
        {
          "name": "stdout",
          "output_type": "stream",
          "text": [
            "{'bulldog': 23, 'golden': 123}\n"
          ]
        }
      ],
      "source": [
        "## O que acontece se criarmos um dicionário com chaves duplicadas?\n",
        "\n",
        "dogs = {\"bulldog\": 23, \"golden\": 90, \"golden\": 123}\n",
        "\n",
        "## Como você pode ver, leva o último valor que inserimos no dicionário\n",
        "print(dogs)"
      ]
    },
    {
      "cell_type": "code",
      "execution_count": null,
      "metadata": {
        "id": "lIBiKmBG5qal",
        "outputId": "8e8ab712-152b-45d8-b17e-b4f6d401eb73",
        "colab": {
          "base_uri": "https://localhost:8080/"
        }
      },
      "outputs": [
        {
          "output_type": "stream",
          "name": "stdout",
          "text": [
            "{'meow': 89, 'pelusa': 89, 'dog': 100, 'mouse': 25}\n",
            "89\n",
            "89\n",
            "{'meow': 89, 'pelusa': 89, 'dog': 100}\n",
            "{'meow': 89, 'pelusa': 89, 'dog': 100, 'mouse': 25}\n",
            "A palavra Cordel foi encontrada!\n"
          ]
        }
      ],
      "source": [
        "## Como alteramos um valor no dicionário?\n",
        "\n",
        "cats = {\"meow\": 90, \"pelusa\": 89, \"dog\": 100, \"mouse\": 25}\n",
        "cats[\"meow\"] = 89;\n",
        "print(cats)\n",
        "cats.pop(\"mouse\")\n",
        "print(cats.get(\"pelusa\"))\n",
        "print(cats[\"pelusa\"])\n",
        "\n",
        "print(cats)\n",
        "cats.update({\"mouse\": 25})\n",
        "print(cats)\n",
        "\n",
        "consulta = ('Cordel' in 'Meu nome é Alexandre Cordel')\n",
        "\n",
        "if (consulta == True):\n",
        "  print(\"A palavra Cordel foi encontrada!\")\n",
        "else:\n",
        "  print(\"A palavra Cordel NÃO foi encontrada!\")"
      ]
    },
    {
      "cell_type": "markdown",
      "metadata": {
        "id": "r6Nqc4BV5qam"
      },
      "source": [
        "Como nas listas podemos fazer várias operações com os dicionários, como:\n",
        "  * **get('key')**: Retorna o valor que corresponde à chave inserida.\n",
        "  * **pop('key')**: Retorna o valor que corresponde à chave inserida e, em seguida, exclui a chave e o valor.\n",
        "  * **update({'key':'value'})**: Insere uma determinada chave ou atualiza seu valor se já existir.\n",
        "  * **«chave» no dicionario**: Retorna verdadeiro (Verdadeiro) ou falso (Falso) se a chave (não os valores) existir no dicionário.\n",
        "  * **«definição» em dicionario.values()**: Retorna true (True) ou false (False) se a definição existir no dicionário (não como chave)."
      ]
    },
    {
      "cell_type": "code",
      "execution_count": null,
      "metadata": {
        "id": "9gfsE4x25qan",
        "outputId": "06aebfdc-0248-4fe6-83fc-88ef61e40aee",
        "colab": {
          "base_uri": "https://localhost:8080/"
        }
      },
      "outputs": [
        {
          "output_type": "stream",
          "name": "stdout",
          "text": [
            "{'list': [1, 2, 3, 4, 5]}\n"
          ]
        }
      ],
      "source": [
        "## Você pode experimentar as funções que quiser, pode até misturar listas com dicionários\n",
        "\n",
        "special_dict = {\"list\": [1, 2, 3, 4, 5]}\n",
        "print(special_dict)\n"
      ]
    },
    {
      "cell_type": "markdown",
      "metadata": {
        "id": "KmMkrbEc5qao"
      },
      "source": [
        "## Exercícios"
      ]
    },
    {
      "cell_type": "markdown",
      "metadata": {
        "id": "z43EUa4J5qao"
      },
      "source": [
        "### Exercício 1\n",
        "\n",
        "Você se lembra do exercício da lição anterior em que pedimos para você fazer uma versão do jogo: pedra, papel, tesoura, lagarto, esponja. Bem, como você sabe, no mundo da programação não existe apenas uma única solução, mas n soluções, então para este exercício vamos pedir que você escreva o mesmo jogo, assim como você fez na lição anterior, com uma diferença, você deve usar dicionários."
      ]
    },
    {
      "cell_type": "code",
      "execution_count": 8,
      "metadata": {
        "id": "7fgvgQHY5qap",
        "colab": {
          "base_uri": "https://localhost:8080/"
        },
        "outputId": "5f6b1924-8428-429f-e934-7442c6ec6c7a"
      },
      "outputs": [
        {
          "output_type": "stream",
          "name": "stdout",
          "text": [
            "\n",
            "Welcome to the Rock, Paper, Scissors, Lizard and Spock game!\n",
            "\n",
            "Choose one of the options below:\n",
            "1 - Rock\n",
            "2 - Paper\n",
            "3 - Scissors\n",
            "4 - Lizard\n",
            "5 - Spock\n",
            "\n",
            "Write the player 1 choice: 2\n",
            "Write the player 2 choice: 3\n",
            "Player 2 won \n",
            "\n",
            "Want to play again? \n",
            "Reply with \"Yes\" or \"No\" \n",
            "no\n",
            "\n",
            "Thanks for play!\n"
          ]
        }
      ],
      "source": [
        "## Coloque o seu código aqui\n",
        "\n",
        "class game():\n",
        "\n",
        "  def __init__(self):\n",
        "    self.player1 = \"\"\n",
        "    self.player2 = \"\"\n",
        "    self.answers = \"\"\n",
        "    self.options = {\"1\", \"2\", \"3\", \"4\", \"5\", \"pedra\", \"papel\", \"tesoura\", \"lagarto\", \"spock\"}\n",
        "    self.dic = { \n",
        "        \"1\": [\"tesoura\", \"3\", \"lagarto\", \"4\"],\n",
        "        \"pedra\": [\"tesoura\", \"3\", \"lagarto\", \"4\"],\n",
        "\n",
        "        \"2\": [\"pedra\", \"1\", \"spock\", \"5\"],\n",
        "        \"papel\": [\"pedra\", \"1\", \"spock\", \"5\"],\n",
        "        \n",
        "        \"3\": [\"papel\", \"2\", \"lagarto\", \"4\"],\n",
        "        \"tesoura\": [\"papel\", \"2\", \"lagarto\", \"4\"],\n",
        "\n",
        "        \"4\": [\"papel\", \"2\", \"spock\", \"5\"],\n",
        "        \"lagarto\": [\"papel\", \"2\", \"spock\", \"5\"],\n",
        "\n",
        "        \"5\": [\"tesoura\", \"3\", \"pedra\", \"1\"],\n",
        "        \"spock\": [\"tesoura\", \"3\", \"pedra\", \"1\"]\n",
        "    }\n",
        "\n",
        "  def receiveValues(self, playerNumber):\n",
        "      verify = False\n",
        "      player = \"\"\n",
        "      \n",
        "      while (verify is False):\n",
        "        player = input(f\"Write the player {playerNumber} choice: \").lower().strip()\n",
        "\n",
        "        for play in self.options:\n",
        "            if play == player:\n",
        "                verify = True\n",
        "        \n",
        "        if (verify is False):\n",
        "            print(\"\\nPlease enter a valid option. \")\n",
        "    \n",
        "      if(playerNumber == 1):\n",
        "          self.player1 = player\n",
        "      else:\n",
        "          self.player2 = player\n",
        "\n",
        "  def checkPossibilities(self):\n",
        "    player1 = self.player1\n",
        "    player2 = self.player2\n",
        "    dictionary = self.dic\n",
        "\n",
        "    if player1 == player2:\n",
        "      print(\"There was a tie. \")\n",
        "    elif player1 in (dictionary.get(player2)):\n",
        "      print(\"Player 2 won \")\n",
        "    else:\n",
        "      print(\"Player 1 won\")\n",
        "  \n",
        "  def checkAnswers(self):\n",
        "    verify = False\n",
        "    answer = \"\"\n",
        "\n",
        "    while (verify is False):\n",
        "      answer = input(\"\"\"\n",
        "Want to play again? \n",
        "Reply with \"Yes\" or \"No\" \n",
        "\"\"\").lower().strip()\n",
        "\n",
        "      if (answer == \"yes\") or (answer == \"y\"):\n",
        "        answer = True\n",
        "        verify = True\n",
        "      elif (answer == \"no\") or (answer == \"n\"):\n",
        "        answer = False\n",
        "        verify = True\n",
        "      else:\n",
        "        verify = False\n",
        "      \n",
        "      if (verify is False):\n",
        "        print(\"\\nPlease only reply with 'yes' or 'no' \")\n",
        "      \n",
        "    self.answer = answer\n",
        "\n",
        "  def run(self):\n",
        "    wannaPlay = True\n",
        "    while(wannaPlay):\n",
        "      print(\"\"\"\n",
        "Welcome to the Rock, Paper, Scissors, Lizard and Spock game!\n",
        "\n",
        "Choose one of the options below:\n",
        "1 - Rock\n",
        "2 - Paper\n",
        "3 - Scissors\n",
        "4 - Lizard\n",
        "5 - Spock\n",
        "\"\"\")\n",
        "      self.receiveValues(1)\n",
        "      self.receiveValues(2)\n",
        "      self.checkPossibilities()\n",
        "      self.checkAnswers()\n",
        "      wannaPlay = self.answer\n",
        "    \n",
        "    print(\"\\nThanks for play!\")\n",
        "\n",
        "game = game()\n",
        "game.run()"
      ]
    },
    {
      "cell_type": "markdown",
      "metadata": {
        "id": "BPx9i1SX5qap"
      },
      "source": [
        "### Exercício 2\n",
        "\n",
        "Lembre-se de como em um teste tentamos obter um índice que não existe de uma lista, mas uma exceção foi lançada, vamos imaginar que escrevemos nossa própria implementação e, em vez de mostrar uma exceção, mostraremos uma mensagem para o usuário dizendo : \"O índice que você está lidando para inserir não está na lista\", então deixamos essa classe, para que você complete o método get, para que, se o índice não existir, você imprima a mensagem, caso contrário, retorne o valor.\n"
      ]
    },
    {
      "cell_type": "code",
      "execution_count": 10,
      "metadata": {
        "id": "iB2qcamZ5qap",
        "colab": {
          "base_uri": "https://localhost:8080/"
        },
        "outputId": "1442ed4a-3b71-4191-9d3b-0058fb252e27"
      },
      "outputs": [
        {
          "output_type": "stream",
          "name": "stdout",
          "text": [
            "4\n",
            "The index you are looking for is not in the list.  \n"
          ]
        }
      ],
      "source": [
        "from traitlets.utils.decorators import Undefined\n",
        "\n",
        "class CustomList:\n",
        "    def __init__(self, items):\n",
        "        self.items = items\n",
        "    \n",
        "    def get(self, index):\n",
        "        if (index >= len(self.items)) or (index <= 0):\n",
        "            return \"The index you are looking for is not in the list.  \"\n",
        "        else:\n",
        "            return self.items[index]\n",
        "\n",
        "custom_list = CustomList([1, 3, 4 ,5 ,6 ,7])\n",
        "\n",
        "## Will return the value 4\n",
        "print(custom_list.get(2))\n",
        "## Will show the message\n",
        "print(custom_list.get(-1))"
      ]
    },
    {
      "cell_type": "markdown",
      "metadata": {
        "id": "xeOjEp5j5qaq"
      },
      "source": [
        "### Exercício 3\n",
        "\n",
        "Vamos continuar implementando a funcionalidade em nossa lista, neste caso queremos um método `delete`, que primeiro verifica se o valor que queremos excluir está na lista, caso contrário imprime uma mensagem que diz: \"O valor não está na lista\", caso contrário remova o valor."
      ]
    },
    {
      "cell_type": "code",
      "execution_count": null,
      "metadata": {
        "id": "zUdG1wvd5qar",
        "colab": {
          "base_uri": "https://localhost:8080/"
        },
        "outputId": "da409898-4b5d-421b-96f2-5e1901de9d1a"
      },
      "outputs": [
        {
          "output_type": "stream",
          "name": "stdout",
          "text": [
            "O valor não está na lista\n",
            "['blue', 'yellow', 'brown']\n"
          ]
        }
      ],
      "source": [
        "class CustomList:\n",
        "    def __init__(self, items):\n",
        "        self.items = items\n",
        "    \n",
        "    def delete(self, index):\n",
        "        if index in self.items:\n",
        "            self.items.remove(index)\n",
        "        else:\n",
        "            print(\"The value isn't in the list. \")\n",
        "\n",
        "custom_list = CustomList([\"green\", \"blue\", \"yellow\", \"brown\"])\n",
        "\n",
        "## Will show the message\n",
        "custom_list.delete(\"no\")\n",
        "\n",
        "## Will delete the item\n",
        "custom_list.delete(\"green\")\n",
        "\n",
        "## Will show the list\n",
        "print(custom_list.items)"
      ]
    },
    {
      "cell_type": "markdown",
      "metadata": {
        "id": "n2swVsPD5qas"
      },
      "source": [
        "### Exercício 4\n",
        "\n",
        "Na classe seguinte que define uma sala de aula, temos um método check_student, que recebe como parâmetro o nome do aluno, você deve determinar se o aluno está presente ou não na lista. Retorna True se o aluno estiver presente, caso contrário retorna False."
      ]
    },
    {
      "cell_type": "code",
      "execution_count": 11,
      "metadata": {
        "id": "yBx_nie55qas",
        "colab": {
          "base_uri": "https://localhost:8080/"
        },
        "outputId": "230b25cf-23d0-4572-b178-6cc7514ad961"
      },
      "outputs": [
        {
          "output_type": "stream",
          "name": "stdout",
          "text": [
            "True\n",
            "False\n"
          ]
        }
      ],
      "source": [
        "class ClassRoom:\n",
        "    def __init__(self):\n",
        "        self.students = [\"Maria\", \"George\", \"Pablo\", \"Lucas\", \"Marco\", \"Tony\", \"Diego\"]\n",
        "        \n",
        "    def check_student(self, student):\n",
        "        return student in self.students\n",
        "\n",
        "room_one = ClassRoom()\n",
        "\n",
        "## Whill return True\n",
        "print(room_one.check_student(\"Maria\"))\n",
        "\n",
        "## Whill return False\n",
        "print(room_one.check_student(\"João\"))"
      ]
    }
  ],
  "metadata": {
    "kernelspec": {
      "display_name": "Python 3",
      "language": "python",
      "name": "python3"
    },
    "language_info": {
      "codemirror_mode": {
        "name": "ipython",
        "version": 3
      },
      "file_extension": ".py",
      "mimetype": "text/x-python",
      "name": "python",
      "nbconvert_exporter": "python",
      "pygments_lexer": "ipython3",
      "version": "3.6.7"
    },
    "colab": {
      "provenance": [],
      "collapsed_sections": []
    }
  },
  "nbformat": 4,
  "nbformat_minor": 0
}